{
 "cells": [
  {
   "cell_type": "code",
   "execution_count": 3,
   "metadata": {
    "collapsed": false
   },
   "outputs": [
    {
     "name": "stdout",
     "output_type": "stream",
     "text": [
      "4300217648 4366096496\n"
     ]
    }
   ],
   "source": [
    "# any object, class, function have different id\n",
    "a = 10\n",
    "b = \"FUCK\"\n",
    "print id(a), id(b)"
   ]
  },
  {
   "cell_type": "code",
   "execution_count": 7,
   "metadata": {
    "collapsed": false
   },
   "outputs": [],
   "source": [
    "c = type(b)"
   ]
  },
  {
   "cell_type": "code",
   "execution_count": 13,
   "metadata": {
    "collapsed": false
   },
   "outputs": [
    {
     "data": {
      "text/plain": [
       "int"
      ]
     },
     "execution_count": 13,
     "metadata": {},
     "output_type": "execute_result"
    }
   ],
   "source": [
    "# the return of type is also an object\n",
    "type(42)"
   ]
  },
  {
   "cell_type": "code",
   "execution_count": 14,
   "metadata": {
    "collapsed": false
   },
   "outputs": [
    {
     "data": {
      "text/plain": [
       "type"
      ]
     },
     "execution_count": 14,
     "metadata": {},
     "output_type": "execute_result"
    }
   ],
   "source": [
    "type(type(42))"
   ]
  },
  {
   "cell_type": "code",
   "execution_count": 24,
   "metadata": {
    "collapsed": false
   },
   "outputs": [
    {
     "name": "stdout",
     "output_type": "stream",
     "text": [
      "987654321\n",
      "97531\n",
      "13579\n"
     ]
    }
   ],
   "source": [
    "# 步进切片 sequence[strat:end:step]\n",
    "foostr = '123456789'\n",
    "print foostr[::-1]\n",
    "print foostr[::-2]\n",
    "print foostr[::2]"
   ]
  },
  {
   "cell_type": "code",
   "execution_count": 26,
   "metadata": {
    "collapsed": false
   },
   "outputs": [
    {
     "data": {
      "text/plain": [
       "True"
      ]
     },
     "execution_count": 26,
     "metadata": {},
     "output_type": "execute_result"
    }
   ],
   "source": [
    "# equal to (4 > 3) and (3 == 3)    namely from left to right\n",
    "4 > 3 == 3"
   ]
  },
  {
   "cell_type": "code",
   "execution_count": 31,
   "metadata": {
    "collapsed": false
   },
   "outputs": [
    {
     "name": "stdout",
     "output_type": "stream",
     "text": [
      "True\n",
      "True\n",
      "False\n"
     ]
    }
   ],
   "source": [
    "foo1 = foo2 = 3.4\n",
    "print id(foo1) == id(foo2)\n",
    "# equivlent \n",
    "print foo1 is foo2 # id(foo1) == id(foo2)\n",
    "foo3 = 4\n",
    "print foo1 is foo3"
   ]
  },
  {
   "cell_type": "code",
   "execution_count": 35,
   "metadata": {
    "collapsed": false
   },
   "outputs": [
    {
     "name": "stdout",
     "output_type": "stream",
     "text": [
      "4300217864 4300217864\n",
      "4297949872 4297949872\n",
      "4300877936 4300877792\n"
     ]
    }
   ],
   "source": [
    "# exception for int and string, because python cache them.\n",
    "a = 1\n",
    "b = 1\n",
    "print id(a), id(b)\n",
    "\n",
    "str1 = 'a'\n",
    "str2 = 'a'\n",
    "print id(str1), id(str2)\n",
    "\n",
    "c = 1.0\n",
    "d = 1.0\n",
    "print id(c), id(d)"
   ]
  },
  {
   "cell_type": "code",
   "execution_count": 37,
   "metadata": {
    "collapsed": false
   },
   "outputs": [
    {
     "name": "stdout",
     "output_type": "stream",
     "text": [
      "[1, 2, 3]\n"
     ]
    }
   ],
   "source": [
    "# re-get object \n",
    "aList = eval(repr([1,2,3]))\n",
    "print aList"
   ]
  },
  {
   "cell_type": "code",
   "execution_count": 38,
   "metadata": {
    "collapsed": false
   },
   "outputs": [
    {
     "name": "stdout",
     "output_type": "stream",
     "text": [
      "<type 'classobj'>\n",
      "<type 'instance'>\n"
     ]
    }
   ],
   "source": [
    "class Foo:\n",
    "    pass\n",
    "foo = Foo()\n",
    "print type(Foo)\n",
    "print type(foo)"
   ]
  },
  {
   "cell_type": "code",
   "execution_count": 39,
   "metadata": {
    "collapsed": false
   },
   "outputs": [
    {
     "name": "stdout",
     "output_type": "stream",
     "text": [
      "<type 'type'>\n",
      "<class '__main__.Bar'>\n"
     ]
    }
   ],
   "source": [
    "class Bar(object):\n",
    "    pass\n",
    "bar = Bar()\n",
    "print type(Bar)\n",
    "print type(bar)"
   ]
  },
  {
   "cell_type": "code",
   "execution_count": 42,
   "metadata": {
    "collapsed": false
   },
   "outputs": [
    {
     "name": "stdout",
     "output_type": "stream",
     "text": [
      "list\n"
     ]
    }
   ],
   "source": [
    "print type(aList).__name__"
   ]
  },
  {
   "cell_type": "markdown",
   "metadata": {},
   "source": [
    "## a = 1.0\n",
    "if isinstance(a, (int, str, float)):\n",
    "    print 'y'\n",
    "else:\n",
    "    print 'n'"
   ]
  },
  {
   "cell_type": "code",
   "execution_count": null,
   "metadata": {
    "collapsed": true
   },
   "outputs": [],
   "source": []
  }
 ],
 "metadata": {
  "anaconda-cloud": {},
  "kernelspec": {
   "display_name": "Python [default]",
   "language": "python",
   "name": "python2"
  },
  "language_info": {
   "codemirror_mode": {
    "name": "ipython",
    "version": 2
   },
   "file_extension": ".py",
   "mimetype": "text/x-python",
   "name": "python",
   "nbconvert_exporter": "python",
   "pygments_lexer": "ipython2",
   "version": "2.7.12"
  }
 },
 "nbformat": 4,
 "nbformat_minor": 1
}
